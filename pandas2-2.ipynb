{
 "cells": [
  {
   "cell_type": "code",
   "execution_count": null,
   "metadata": {},
   "outputs": [],
   "source": [
    "import pandas as pd\n",
    "d = pd.read_csv(\"vk_main.csv\", sep='\\t')\n",
    "print(type(d))\n",
    "print(d.head(12))\n",
    "#print(d.info())\n",
    "d.to_csv(\"vk2.csv\", sep='\\t')\n",
    "print(d.tail(12))\n",
    "print(d[6:12])\n",
    "print(d.shape[1])\n",
    "print(d.columns)\n",
    "print(d['first_name'][:10])\n",
    "print(d.first_name[:10])\n",
    "print(d[[\"first_name\", \"last_name\", \"city\"]].head())\n",
    "d[\"first_last_name\"] = d[\"first_name\"] + \" \" + d[\"last_name\"]\n",
    "print(d['city'].unique())\n",
    "print(len(d['city'].unique()))\n",
    "print(d['city'].value_counts())\n",
    "print(d[(d[\"male_dummy\"] == 0) & (d[\"instagram_dummy\"] == 1)])\n",
    "print(d[(d[\"male_dummy\"] == 0) & ((d[\"instagram_dummy\"] == 1) | (d[\"twitter_dummy\"] == 1))])\n",
    "print(d[(d[\"friends_from_course_cnt\"] > 100) & (d[\"friends_from_course_cnt\"] < 153)])\n",
    "print(d.isnull())\n",
    "print(d.isnull().sum())\n",
    "print(d.isnull().sum().sort_values(ascending=False).head(12))\n",
    "d['city'] = d['city'].fillna(\"Не указано\")\n"
   ]
  },
  {
   "cell_type": "code",
   "execution_count": null,
   "metadata": {},
   "outputs": [],
   "source": [
    "\n",
    "1) Сколько студентов закрыли свой профиль ? (колонка is_closed)\n",
    "2) Сколько всего в таблице студентов?\n",
    "3) Какая доля студентов закрыла свой профиль?\n",
    "4) Сколько уникальных мужских имен встречается на курсе?\n",
    "5) Сколько парней имеют подписку на инстаграм, но не имеют подписки на твиттер?\n",
    "6) Сколько людей относится к алкоголю позитивно (поле alco_love_cnt принимеат значения 4 или 5)? негативно (поле alco_love_cnt принимает значения 0,1,2)?\n",
    "7) У скольких человек не удалось извлечь информацию об отношении к алкоголю (поле alco_love_cnt равно NaN)?\n",
    "8) Выведите топ10 юзеров (Имя Фамилия) по количеству подписчиков (поле followers_cnt).\n",
    "9) Как зовут человека, у которого больше всего друзей с курса (поле friends_from_course_count)?\n",
    "10) Сколько человек родом из Москвы (поле home_town)? не из Москвы? Будьте внимательны. Перед тем, как делать, изучите внимательно, какие значения включает в себя это поле.\n",
    "11) Выведите на экран колонки, в которых нет ни одного пропуска.\n",
    "12) Среди двух полов найдите лидера по числу выложенных фоток (в колонке photo_month_mean среднемесячное кол-во фоток)."
   ]
  },
  {
   "cell_type": "code",
   "execution_count": 125,
   "metadata": {},
   "outputs": [],
   "source": [
    "import pandas as pd\n",
    "d = pd.read_csv('/Users/roman/Desktop/Study Python/vk_main.csv', sep='\\t')"
   ]
  },
  {
   "cell_type": "markdown",
   "metadata": {},
   "source": [
    "1) Сколько студентов закрыли свой профиль ? (колонка is_closed)"
   ]
  },
  {
   "cell_type": "code",
   "execution_count": 126,
   "metadata": {},
   "outputs": [
    {
     "data": {
      "text/plain": [
       "41"
      ]
     },
     "execution_count": 126,
     "metadata": {},
     "output_type": "execute_result"
    }
   ],
   "source": [
    "d['is_closed'].sum() # так как True это закрытые профили, то суммируем их (как единицы)"
   ]
  },
  {
   "cell_type": "markdown",
   "metadata": {},
   "source": [
    "2) Сколько всего в таблице студентов?"
   ]
  },
  {
   "cell_type": "code",
   "execution_count": 127,
   "metadata": {},
   "outputs": [
    {
     "name": "stdout",
     "output_type": "stream",
     "text": [
      "0\n",
      "425\n",
      "425\n"
     ]
    }
   ],
   "source": [
    "print(d['first_name'].isnull().sum()) # ищем пустые строки\n",
    "                                      # хорошо бы еще отбросить повторы\n",
    "print(len(d['first_name']))\n",
    "print(d.shape[0])                     # очень упрощенно"
   ]
  },
  {
   "cell_type": "markdown",
   "metadata": {},
   "source": [
    "3) Какая доля студентов закрыла свой профиль?"
   ]
  },
  {
   "cell_type": "code",
   "execution_count": 145,
   "metadata": {},
   "outputs": [
    {
     "name": "stdout",
     "output_type": "stream",
     "text": [
      "9.65\n",
      "9.65\n"
     ]
    }
   ],
   "source": [
    "print(round((d['is_closed'].sum() / len(d['first_name'])) * 100, 2))\n",
    "print(round((d['is_closed'].sum() / d.shape[0]) * 100, 2))"
   ]
  },
  {
   "cell_type": "markdown",
   "metadata": {},
   "source": [
    "4) Сколько уникальных мужских имен встречается на курсе?"
   ]
  },
  {
   "cell_type": "code",
   "execution_count": 194,
   "metadata": {},
   "outputs": [
    {
     "data": {
      "text/plain": [
       "Index(['city', 'country', 'first_name', 'home_town', 'in_hse_memes_group',\n",
       "       'is_bmm', 'is_closed', 'last_name', 'likes_memes', 'uid', 'male_dummy',\n",
       "       'facebook_dummy', 'instagram_dummy', 'skype_dummy', 'twitter_dummy',\n",
       "       'home_phone_dummy', 'mobile_phone_dummy', 'site_dummy',\n",
       "       'can_post_dummy', 'can_see_all_posts_dummy', 'can_see_audio_dummy',\n",
       "       'can_write_private_message_dummy', 'has_mobile_dummy', 'has_ava_dummy',\n",
       "       'wall_comments_dummy', 'english_dummy', 'folowers_cnt', 'albums_cnt',\n",
       "       'audio_cnt', 'followers_cnt', 'friends_cnt', 'gifts_cnt', 'groups_cnt',\n",
       "       'photos_cnt', 'subscriptions_cnt', 'user_photos_cnt', 'videos_cnt',\n",
       "       'pages_cnt', 'lang_cnt', 'change_city_school_cnt', 'schools_cnt',\n",
       "       'relation_cat', 'alco_love_cat', 'smoke_love_cat', 'life_main_cat',\n",
       "       'people_main_cat', 'political_cat', 'private_prof_dummy',\n",
       "       'wall_can_comment_dummy', 'wall_comment_cnt', 'wall_comment_max',\n",
       "       'wall_comment_mean', 'wall_comment_median', 'wall_emoji_mean',\n",
       "       'wall_emoji_median', 'wall_emoji_cnt', 'wall_emoji_max',\n",
       "       'wall_like_cnt', 'wall_like_max', 'wall_like_mean', 'wall_like_median',\n",
       "       'wall_month_mean', 'wall_post_android_cnt', 'wall_post_cnt',\n",
       "       'wall_post_instagram_cnt', 'wall_post_ipad_cnt', 'wall_post_iphone_cnt',\n",
       "       'wall_post_original_cnt', 'wall_post_other_cnt', 'wall_post_reply_cnt',\n",
       "       'wall_post_wphone_cnt', 'wall_repost_cnt', 'wall_repost_group_cnt',\n",
       "       'wall_repost_max', 'wall_repost_mean', 'wall_repost_median',\n",
       "       'wall_repost_user_cnt', 'wall_text_len_cnt', 'wall_text_len_max',\n",
       "       'wall_text_len_mean', 'wall_text_len_median', 'wall_year_mean',\n",
       "       'wall_emoji_trace', 'wall_text', 'photo_like_cnt', 'photo_like_max',\n",
       "       'photo_like_mean', 'photo_like_median', 'photo_month_mean',\n",
       "       'photo_repost_cnt', 'photo_repost_max', 'photo_repost_mean',\n",
       "       'photo_repost_median', 'photo_text_len_cnt', 'photo_ava_change_cnt',\n",
       "       'photo_text_url_len_cnt', 'friends_from_course_cnt',\n",
       "       'friends_mail_from_course_pct'],\n",
       "      dtype='object')"
      ]
     },
     "execution_count": 194,
     "metadata": {},
     "output_type": "execute_result"
    }
   ],
   "source": [
    "d.columns"
   ]
  },
  {
   "cell_type": "code",
   "execution_count": 147,
   "metadata": {},
   "outputs": [
    {
     "data": {
      "text/plain": [
       "109"
      ]
     },
     "execution_count": 147,
     "metadata": {},
     "output_type": "execute_result"
    }
   ],
   "source": [
    "d[['first_name', 'male_dummy']] # двойные скобочки всегда ?\n",
    "len(d[d['male_dummy'] == 1]['first_name'].unique())"
   ]
  },
  {
   "cell_type": "markdown",
   "metadata": {},
   "source": [
    "5) Сколько парней имеют подписку на инстаграм, но не имеют подписки на твиттер?"
   ]
  },
  {
   "cell_type": "code",
   "execution_count": 144,
   "metadata": {},
   "outputs": [
    {
     "data": {
      "text/plain": [
       "24"
      ]
     },
     "execution_count": 144,
     "metadata": {},
     "output_type": "execute_result"
    }
   ],
   "source": [
    "len(d[(d['male_dummy'] == 1) & (d['instagram_dummy'] == 1) & (d['twitter_dummy'] == 0)])"
   ]
  },
  {
   "cell_type": "code",
   "execution_count": 132,
   "metadata": {},
   "outputs": [
    {
     "name": "stdout",
     "output_type": "stream",
     "text": [
      "6\n"
     ]
    }
   ],
   "source": [
    "print(d['twitter_dummy'].sum())"
   ]
  },
  {
   "cell_type": "markdown",
   "metadata": {},
   "source": [
    "6) Сколько людей относится к алкоголю позитивно (поле alco_love_cnt принимеат значения 4 или 5)? негативно (поле alco_love_cnt принимает значения 0,1,2)?"
   ]
  },
  {
   "cell_type": "code",
   "execution_count": 133,
   "metadata": {},
   "outputs": [
    {
     "name": "stdout",
     "output_type": "stream",
     "text": [
      "0.0    154\n",
      "3.0      3\n",
      "2.0      3\n",
      "1.0      3\n",
      "Name: alco_love_cat, dtype: int64\n"
     ]
    }
   ],
   "source": [
    "print(d['alco_love_cat'].value_counts())"
   ]
  },
  {
   "cell_type": "code",
   "execution_count": 134,
   "metadata": {},
   "outputs": [
    {
     "name": "stdout",
     "output_type": "stream",
     "text": [
      "163\n"
     ]
    }
   ],
   "source": [
    "print(d['alco_love_cat'].count()) # можно ли в count задавать аргумент для конкретного поиска count(3)"
   ]
  },
  {
   "cell_type": "code",
   "execution_count": 160,
   "metadata": {},
   "outputs": [
    {
     "name": "stdout",
     "output_type": "stream",
     "text": [
      "160\n",
      "0\n"
     ]
    }
   ],
   "source": [
    "print(len(d[d['alco_love_cat'] < 3]))\n",
    "print(len(d[d['alco_love_cat'] >= 4]))"
   ]
  },
  {
   "cell_type": "markdown",
   "metadata": {},
   "source": [
    "7) У скольких человек не удалось извлечь информацию об отношении к алкоголю (поле alco_love_cnt равно NaN)?"
   ]
  },
  {
   "cell_type": "code",
   "execution_count": 142,
   "metadata": {},
   "outputs": [
    {
     "name": "stdout",
     "output_type": "stream",
     "text": [
      "262\n"
     ]
    }
   ],
   "source": [
    "print(d['alco_love_cat'].isnull().sum()) # должно быть 154 или NAN это не ноль?"
   ]
  },
  {
   "cell_type": "markdown",
   "metadata": {},
   "source": [
    "8) Выведите топ10 юзеров (Имя Фамилия) по количеству подписчиков (поле followers_cnt)."
   ]
  },
  {
   "cell_type": "code",
   "execution_count": 242,
   "metadata": {},
   "outputs": [
    {
     "data": {
      "text/html": [
       "<div>\n",
       "<style scoped>\n",
       "    .dataframe tbody tr th:only-of-type {\n",
       "        vertical-align: middle;\n",
       "    }\n",
       "\n",
       "    .dataframe tbody tr th {\n",
       "        vertical-align: top;\n",
       "    }\n",
       "\n",
       "    .dataframe thead th {\n",
       "        text-align: right;\n",
       "    }\n",
       "</style>\n",
       "<table border=\"1\" class=\"dataframe\">\n",
       "  <thead>\n",
       "    <tr style=\"text-align: right;\">\n",
       "      <th></th>\n",
       "      <th>first_name</th>\n",
       "      <th>last_name</th>\n",
       "      <th>followers_cnt</th>\n",
       "    </tr>\n",
       "  </thead>\n",
       "  <tbody>\n",
       "    <tr>\n",
       "      <td>176</td>\n",
       "      <td>Анжелика</td>\n",
       "      <td>Искандерова</td>\n",
       "      <td>3002.0</td>\n",
       "    </tr>\n",
       "    <tr>\n",
       "      <td>19</td>\n",
       "      <td>Данила</td>\n",
       "      <td>Гусев</td>\n",
       "      <td>1609.0</td>\n",
       "    </tr>\n",
       "    <tr>\n",
       "      <td>399</td>\n",
       "      <td>Рустам</td>\n",
       "      <td>Магомедов</td>\n",
       "      <td>1531.0</td>\n",
       "    </tr>\n",
       "    <tr>\n",
       "      <td>58</td>\n",
       "      <td>Оля</td>\n",
       "      <td>Исупова</td>\n",
       "      <td>1337.0</td>\n",
       "    </tr>\n",
       "    <tr>\n",
       "      <td>209</td>\n",
       "      <td>Диана</td>\n",
       "      <td>Геличук</td>\n",
       "      <td>1015.0</td>\n",
       "    </tr>\n",
       "    <tr>\n",
       "      <td>135</td>\n",
       "      <td>Поля</td>\n",
       "      <td>Гребенникова</td>\n",
       "      <td>873.0</td>\n",
       "    </tr>\n",
       "    <tr>\n",
       "      <td>142</td>\n",
       "      <td>Полина</td>\n",
       "      <td>Бурмистрова</td>\n",
       "      <td>831.0</td>\n",
       "    </tr>\n",
       "    <tr>\n",
       "      <td>371</td>\n",
       "      <td>Ирина</td>\n",
       "      <td>Маринова</td>\n",
       "      <td>802.0</td>\n",
       "    </tr>\n",
       "    <tr>\n",
       "      <td>155</td>\n",
       "      <td>Надежда</td>\n",
       "      <td>Адамчук</td>\n",
       "      <td>773.0</td>\n",
       "    </tr>\n",
       "    <tr>\n",
       "      <td>340</td>\n",
       "      <td>Маша</td>\n",
       "      <td>Кондрахина</td>\n",
       "      <td>745.0</td>\n",
       "    </tr>\n",
       "  </tbody>\n",
       "</table>\n",
       "</div>"
      ],
      "text/plain": [
       "    first_name     last_name  followers_cnt\n",
       "176   Анжелика   Искандерова         3002.0\n",
       "19      Данила         Гусев         1609.0\n",
       "399     Рустам     Магомедов         1531.0\n",
       "58         Оля       Исупова         1337.0\n",
       "209      Диана       Геличук         1015.0\n",
       "135       Поля  Гребенникова          873.0\n",
       "142     Полина   Бурмистрова          831.0\n",
       "371      Ирина      Маринова          802.0\n",
       "155    Надежда       Адамчук          773.0\n",
       "340       Маша    Кондрахина          745.0"
      ]
     },
     "execution_count": 242,
     "metadata": {},
     "output_type": "execute_result"
    }
   ],
   "source": [
    "d.sort_values(by = 'followers_cnt', ascending = False)[['first_name', 'last_name', 'followers_cnt']].head(10)"
   ]
  },
  {
   "cell_type": "markdown",
   "metadata": {},
   "source": [
    "9) Как зовут человека, у которого больше всего друзей с курса (поле friends_from_course_count)?"
   ]
  },
  {
   "cell_type": "code",
   "execution_count": 250,
   "metadata": {},
   "outputs": [
    {
     "data": {
      "text/plain": [
       "116    Марго\n",
       "Name: first_name, dtype: object"
      ]
     },
     "execution_count": 250,
     "metadata": {},
     "output_type": "execute_result"
    }
   ],
   "source": [
    "d.sort_values(by = 'friends_from_course_cnt', ascending = False)['first_name'].head(1)"
   ]
  },
  {
   "cell_type": "markdown",
   "metadata": {},
   "source": [
    "0) Сколько человек родом из Москвы (поле home_town)? не из Москвы? Будьте внимательны. Перед тем, как делать, изучите внимательно, какие значения включает в себя это поле."
   ]
  },
  {
   "cell_type": "code",
   "execution_count": 223,
   "metadata": {},
   "outputs": [
    {
     "name": "stdout",
     "output_type": "stream",
     "text": [
      "Москва                      46\n",
      "Moscow                       4\n",
      "Красноярск                   3\n",
      "Киров                        3\n",
      "Омск                         3\n",
      "Тирасполь                    2\n",
      "Минеральные Воды             2\n",
      "Иркутск                      2\n",
      "Волгоград                    2\n",
      "Riga, Latvia                 1\n",
      "Уфа                          1\n",
      "Новосибирск                  1\n",
      "Люберцы                      1\n",
      "Северобайкальск              1\n",
      "железнодорожный              1\n",
      "омск                         1\n",
      "Ростове-на-Дону              1\n",
      "Казань                       1\n",
      "Астрахань                    1\n",
      "Рязань                       1\n",
      "Петропавловск-Камчатский     1\n",
      "италия                       1\n",
      "Санкт-Петербург              1\n",
      "Kazan                        1\n",
      "Ульяновск                    1\n",
      "Дубна                        1\n",
      "Североморск                  1\n",
      "黑河                           1\n",
      "Саяногорск,Бердск,Москва     1\n",
      "Екатеринбург                 1\n",
      "lauderhill                   1\n",
      "москва                       1\n",
      "Пенза                        1\n",
      "Мариуполь                    1\n",
      "Voronezh                     1\n",
      "Владивосток                  1\n",
      "Октябрьский                  1\n",
      "новоросс                     1\n",
      "Калининград                  1\n",
      "Йошкар-Ола                   1\n",
      "Витебск                      1\n",
      "ростов-на-дону               1\n",
      "Белгород                     1\n",
      "Свети Влас                   1\n",
      "Владикавказ                  1\n",
      "Атырау                       1\n",
      "Калуга                       1\n",
      "Нур-Султан, Астана           1\n",
      "Чебоксары                    1\n",
      "♥Odessa♥                     1\n",
      "Ташкент                      1\n",
      "Вологда                      1\n",
      "махачкала                    1\n",
      "Сергиев Посад                1\n",
      "Name: home_town, dtype: int64\n"
     ]
    },
    {
     "data": {
      "text/plain": [
       "51"
      ]
     },
     "execution_count": 223,
     "metadata": {},
     "output_type": "execute_result"
    }
   ],
   "source": [
    "print(d['home_town'].value_counts())\n",
    "#.str.lower() # не работает, потому что есть другие символы?\n",
    "len(d[(d['home_town'] == 'Moscow') | (d['home_town'] == 'moscow') | (d['home_town'] == 'Москва') | (d['home_town'] == 'москва')])"
   ]
  },
  {
   "cell_type": "code",
   "execution_count": 225,
   "metadata": {},
   "outputs": [
    {
     "name": "stdout",
     "output_type": "stream",
     "text": [
      "<class 'pandas.core.frame.DataFrame'>\n",
      "RangeIndex: 425 entries, 0 to 424\n",
      "Data columns (total 98 columns):\n",
      "city                               328 non-null object\n",
      "country                            364 non-null object\n",
      "first_name                         425 non-null object\n",
      "home_town                          112 non-null object\n",
      "in_hse_memes_group                 425 non-null bool\n",
      "is_bmm                             425 non-null bool\n",
      "is_closed                          425 non-null bool\n",
      "last_name                          425 non-null object\n",
      "likes_memes                        384 non-null float64\n",
      "uid                                425 non-null int64\n",
      "male_dummy                         425 non-null int64\n",
      "facebook_dummy                     425 non-null int64\n",
      "instagram_dummy                    425 non-null int64\n",
      "skype_dummy                        425 non-null int64\n",
      "twitter_dummy                      425 non-null int64\n",
      "home_phone_dummy                   425 non-null int64\n",
      "mobile_phone_dummy                 425 non-null int64\n",
      "site_dummy                         425 non-null int64\n",
      "can_post_dummy                     425 non-null int64\n",
      "can_see_all_posts_dummy            425 non-null int64\n",
      "can_see_audio_dummy                425 non-null int64\n",
      "can_write_private_message_dummy    425 non-null int64\n",
      "has_mobile_dummy                   425 non-null int64\n",
      "has_ava_dummy                      425 non-null int64\n",
      "wall_comments_dummy                425 non-null int64\n",
      "english_dummy                      425 non-null int64\n",
      "folowers_cnt                       384 non-null float64\n",
      "albums_cnt                         425 non-null float64\n",
      "audio_cnt                          425 non-null float64\n",
      "followers_cnt                      384 non-null float64\n",
      "friends_cnt                        425 non-null float64\n",
      "gifts_cnt                          167 non-null float64\n",
      "groups_cnt                         68 non-null float64\n",
      "photos_cnt                         384 non-null float64\n",
      "subscriptions_cnt                  425 non-null float64\n",
      "user_photos_cnt                    101 non-null float64\n",
      "videos_cnt                         425 non-null float64\n",
      "pages_cnt                          425 non-null float64\n",
      "lang_cnt                           131 non-null float64\n",
      "change_city_school_cnt             74 non-null float64\n",
      "schools_cnt                        46 non-null object\n",
      "relation_cat                       193 non-null object\n",
      "alco_love_cat                      163 non-null float64\n",
      "smoke_love_cat                     163 non-null float64\n",
      "life_main_cat                      162 non-null object\n",
      "people_main_cat                    163 non-null object\n",
      "political_cat                      12 non-null object\n",
      "private_prof_dummy                 425 non-null int64\n",
      "wall_can_comment_dummy             343 non-null float64\n",
      "wall_comment_cnt                   343 non-null float64\n",
      "wall_comment_max                   343 non-null float64\n",
      "wall_comment_mean                  343 non-null float64\n",
      "wall_comment_median                343 non-null float64\n",
      "wall_emoji_mean                    343 non-null float64\n",
      "wall_emoji_median                  343 non-null float64\n",
      "wall_emoji_cnt                     343 non-null float64\n",
      "wall_emoji_max                     343 non-null float64\n",
      "wall_like_cnt                      343 non-null float64\n",
      "wall_like_max                      343 non-null float64\n",
      "wall_like_mean                     343 non-null float64\n",
      "wall_like_median                   343 non-null float64\n",
      "wall_month_mean                    343 non-null float64\n",
      "wall_post_android_cnt              343 non-null float64\n",
      "wall_post_cnt                      343 non-null float64\n",
      "wall_post_instagram_cnt            343 non-null float64\n",
      "wall_post_ipad_cnt                 343 non-null float64\n",
      "wall_post_iphone_cnt               343 non-null float64\n",
      "wall_post_original_cnt             343 non-null float64\n",
      "wall_post_other_cnt                343 non-null float64\n",
      "wall_post_reply_cnt                343 non-null float64\n",
      "wall_post_wphone_cnt               343 non-null float64\n",
      "wall_repost_cnt                    343 non-null float64\n",
      "wall_repost_group_cnt              343 non-null float64\n",
      "wall_repost_max                    343 non-null float64\n",
      "wall_repost_mean                   343 non-null float64\n",
      "wall_repost_median                 343 non-null float64\n",
      "wall_repost_user_cnt               343 non-null float64\n",
      "wall_text_len_cnt                  343 non-null float64\n",
      "wall_text_len_max                  343 non-null float64\n",
      "wall_text_len_mean                 343 non-null float64\n",
      "wall_text_len_median               343 non-null float64\n",
      "wall_year_mean                     343 non-null float64\n",
      "wall_emoji_trace                   205 non-null object\n",
      "wall_text                          311 non-null object\n",
      "photo_like_cnt                     376 non-null float64\n",
      "photo_like_max                     376 non-null float64\n",
      "photo_like_mean                    376 non-null float64\n",
      "photo_like_median                  376 non-null float64\n",
      "photo_month_mean                   376 non-null float64\n",
      "photo_repost_cnt                   376 non-null float64\n",
      "photo_repost_max                   376 non-null float64\n",
      "photo_repost_mean                  376 non-null float64\n",
      "photo_repost_median                376 non-null float64\n",
      "photo_text_len_cnt                 376 non-null float64\n",
      "photo_ava_change_cnt               376 non-null float64\n",
      "photo_text_url_len_cnt             376 non-null float64\n",
      "friends_from_course_cnt            384 non-null float64\n",
      "friends_mail_from_course_pct       384 non-null float64\n",
      "dtypes: bool(3), float64(65), int64(18), object(12)\n",
      "memory usage: 316.8+ KB\n"
     ]
    }
   ],
   "source": [
    "d.info()"
   ]
  },
  {
   "cell_type": "markdown",
   "metadata": {},
   "source": [
    "11) Выведите на экран колонки, в которых нет ни одного пропуска."
   ]
  },
  {
   "cell_type": "code",
   "execution_count": 232,
   "metadata": {},
   "outputs": [
    {
     "name": "stdout",
     "output_type": "stream",
     "text": [
      "<class 'pandas.core.frame.DataFrame'>\n",
      "RangeIndex: 425 entries, 0 to 424\n",
      "Data columns (total 98 columns):\n",
      "city                               328 non-null object\n",
      "country                            364 non-null object\n",
      "first_name                         425 non-null object\n",
      "home_town                          112 non-null object\n",
      "in_hse_memes_group                 425 non-null bool\n",
      "is_bmm                             425 non-null bool\n",
      "is_closed                          425 non-null bool\n",
      "last_name                          425 non-null object\n",
      "likes_memes                        384 non-null float64\n",
      "uid                                425 non-null int64\n",
      "male_dummy                         425 non-null int64\n",
      "facebook_dummy                     425 non-null int64\n",
      "instagram_dummy                    425 non-null int64\n",
      "skype_dummy                        425 non-null int64\n",
      "twitter_dummy                      425 non-null int64\n",
      "home_phone_dummy                   425 non-null int64\n",
      "mobile_phone_dummy                 425 non-null int64\n",
      "site_dummy                         425 non-null int64\n",
      "can_post_dummy                     425 non-null int64\n",
      "can_see_all_posts_dummy            425 non-null int64\n",
      "can_see_audio_dummy                425 non-null int64\n",
      "can_write_private_message_dummy    425 non-null int64\n",
      "has_mobile_dummy                   425 non-null int64\n",
      "has_ava_dummy                      425 non-null int64\n",
      "wall_comments_dummy                425 non-null int64\n",
      "english_dummy                      425 non-null int64\n",
      "folowers_cnt                       384 non-null float64\n",
      "albums_cnt                         425 non-null float64\n",
      "audio_cnt                          425 non-null float64\n",
      "followers_cnt                      384 non-null float64\n",
      "friends_cnt                        425 non-null float64\n",
      "gifts_cnt                          167 non-null float64\n",
      "groups_cnt                         68 non-null float64\n",
      "photos_cnt                         384 non-null float64\n",
      "subscriptions_cnt                  425 non-null float64\n",
      "user_photos_cnt                    101 non-null float64\n",
      "videos_cnt                         425 non-null float64\n",
      "pages_cnt                          425 non-null float64\n",
      "lang_cnt                           131 non-null float64\n",
      "change_city_school_cnt             74 non-null float64\n",
      "schools_cnt                        46 non-null object\n",
      "relation_cat                       193 non-null object\n",
      "alco_love_cat                      163 non-null float64\n",
      "smoke_love_cat                     163 non-null float64\n",
      "life_main_cat                      162 non-null object\n",
      "people_main_cat                    163 non-null object\n",
      "political_cat                      12 non-null object\n",
      "private_prof_dummy                 425 non-null int64\n",
      "wall_can_comment_dummy             343 non-null float64\n",
      "wall_comment_cnt                   343 non-null float64\n",
      "wall_comment_max                   343 non-null float64\n",
      "wall_comment_mean                  343 non-null float64\n",
      "wall_comment_median                343 non-null float64\n",
      "wall_emoji_mean                    343 non-null float64\n",
      "wall_emoji_median                  343 non-null float64\n",
      "wall_emoji_cnt                     343 non-null float64\n",
      "wall_emoji_max                     343 non-null float64\n",
      "wall_like_cnt                      343 non-null float64\n",
      "wall_like_max                      343 non-null float64\n",
      "wall_like_mean                     343 non-null float64\n",
      "wall_like_median                   343 non-null float64\n",
      "wall_month_mean                    343 non-null float64\n",
      "wall_post_android_cnt              343 non-null float64\n",
      "wall_post_cnt                      343 non-null float64\n",
      "wall_post_instagram_cnt            343 non-null float64\n",
      "wall_post_ipad_cnt                 343 non-null float64\n",
      "wall_post_iphone_cnt               343 non-null float64\n",
      "wall_post_original_cnt             343 non-null float64\n",
      "wall_post_other_cnt                343 non-null float64\n",
      "wall_post_reply_cnt                343 non-null float64\n",
      "wall_post_wphone_cnt               343 non-null float64\n",
      "wall_repost_cnt                    343 non-null float64\n",
      "wall_repost_group_cnt              343 non-null float64\n",
      "wall_repost_max                    343 non-null float64\n",
      "wall_repost_mean                   343 non-null float64\n",
      "wall_repost_median                 343 non-null float64\n",
      "wall_repost_user_cnt               343 non-null float64\n",
      "wall_text_len_cnt                  343 non-null float64\n",
      "wall_text_len_max                  343 non-null float64\n",
      "wall_text_len_mean                 343 non-null float64\n",
      "wall_text_len_median               343 non-null float64\n",
      "wall_year_mean                     343 non-null float64\n",
      "wall_emoji_trace                   205 non-null object\n",
      "wall_text                          311 non-null object\n",
      "photo_like_cnt                     376 non-null float64\n",
      "photo_like_max                     376 non-null float64\n",
      "photo_like_mean                    376 non-null float64\n",
      "photo_like_median                  376 non-null float64\n",
      "photo_month_mean                   376 non-null float64\n",
      "photo_repost_cnt                   376 non-null float64\n",
      "photo_repost_max                   376 non-null float64\n",
      "photo_repost_mean                  376 non-null float64\n",
      "photo_repost_median                376 non-null float64\n",
      "photo_text_len_cnt                 376 non-null float64\n",
      "photo_ava_change_cnt               376 non-null float64\n",
      "photo_text_url_len_cnt             376 non-null float64\n",
      "friends_from_course_cnt            384 non-null float64\n",
      "friends_mail_from_course_pct       384 non-null float64\n",
      "dtypes: bool(3), float64(65), int64(18), object(12)\n",
      "memory usage: 316.8+ KB\n"
     ]
    }
   ],
   "source": [
    "d.isnull()\n",
    "d.info()"
   ]
  },
  {
   "cell_type": "markdown",
   "metadata": {},
   "source": [
    "12) Среди двух полов найдите лидера по числу выложенных фоток (в колонке photo_month_mean среднемесячное кол-во фоток)."
   ]
  },
  {
   "cell_type": "code",
   "execution_count": 266,
   "metadata": {},
   "outputs": [
    {
     "name": "stdout",
     "output_type": "stream",
     "text": [
      "    first_name  photo_month_mean\n",
      "196       Алик        131.416667\n",
      "    first_name  photo_month_mean\n",
      "214       Дуся        151.833333\n"
     ]
    }
   ],
   "source": [
    "t = d.sort_values(by = 'photo_month_mean', ascending = False)[['male_dummy', 'first_name', 'photo_month_mean']]\n",
    "print(t[t['male_dummy'] == 1][['first_name', 'photo_month_mean']].head(1))\n",
    "print(t[t['male_dummy'] == 0][['first_name', 'photo_month_mean']].head(1))"
   ]
  },
  {
   "cell_type": "code",
   "execution_count": null,
   "metadata": {},
   "outputs": [],
   "source": []
  }
 ],
 "metadata": {
  "kernelspec": {
   "display_name": "Python 3",
   "language": "python",
   "name": "python3"
  },
  "language_info": {
   "codemirror_mode": {
    "name": "ipython",
    "version": 3
   },
   "file_extension": ".py",
   "mimetype": "text/x-python",
   "name": "python",
   "nbconvert_exporter": "python",
   "pygments_lexer": "ipython3",
   "version": "3.7.4"
  }
 },
 "nbformat": 4,
 "nbformat_minor": 2
}
